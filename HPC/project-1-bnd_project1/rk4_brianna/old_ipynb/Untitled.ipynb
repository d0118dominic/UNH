{
 "cells": [
  {
   "cell_type": "code",
   "execution_count": 23,
   "id": "decent-prototype",
   "metadata": {},
   "outputs": [
    {
     "name": "stdout",
     "output_type": "stream",
     "text": [
      "['0', '0.1', '0.2', '0.3', '0.4', '0.5', '0.6', '0.7', '0.8', '0.9']\n"
     ]
    }
   ],
   "source": [
    "token =  open('data/kdvSOL_010_011_04_00.txt','r') \n",
    "\n",
    "linestoken=token.readlines()\n",
    "tokens_column_number = 0\n",
    "resulttoken=[]\n",
    "for x in linestoken:\n",
    "    resulttoken.append(x.split()[tokens_column_number])\n",
    "token.close()\n",
    "print(resulttoken)"
   ]
  },
  {
   "cell_type": "code",
   "execution_count": 29,
   "id": "palestinian-satisfaction",
   "metadata": {
    "scrolled": true
   },
   "outputs": [
    {
     "data": {
      "text/plain": [
       "array([[ 0.      , -2.      , -1.71128 , -1.11811 ],\n",
       "       [ 0.1     , -1.98013 , -1.83027 , -1.26948 ],\n",
       "       [ 0.2     , -1.92209 , -1.92209 , -1.42316 ],\n",
       "       [ 0.3     , -1.83027 , -1.98013 , -1.5729  ],\n",
       "       [ 0.4     , -1.71128 , -2.      , -1.71128 ],\n",
       "       [ 0.5     , -1.5729  , -1.98013 , -1.83027 ],\n",
       "       [ 0.6     , -1.42316 , -1.92209 , -1.92209 ],\n",
       "       [ 0.7     , -1.26948 , -1.83027 , -1.98013 ],\n",
       "       [ 0.8     , -1.11811 , -1.71128 , -2.      ],\n",
       "       [ 0.9     , -0.973835, -1.5729  , -1.98013 ]])"
      ]
     },
     "execution_count": 29,
     "metadata": {},
     "output_type": "execute_result"
    }
   ],
   "source": [
    "import numpy as np\n",
    "\n",
    "array_txt = np.loadtxt(\"data/kdvSOL_010_011_04_00.txt\",usecols=(0, 1,2,3), skiprows=0)\n",
    "array_txt\n",
    "\n"
   ]
  },
  {
   "cell_type": "code",
   "execution_count": 30,
   "id": "tough-stretch",
   "metadata": {},
   "outputs": [],
   "source": [
    "import matplotlib.pyplot as plt\n",
    "x = array_txt[:,0]\n",
    "y1 = array_txt[:,1]\n",
    "y2 = array_txt[:,2]\n",
    "y3 = array_txt[:,3]\n"
   ]
  },
  {
   "cell_type": "code",
   "execution_count": 32,
   "id": "accessible-rally",
   "metadata": {},
   "outputs": [
    {
     "data": {
      "text/plain": [
       "[<matplotlib.lines.Line2D at 0x1e1f5682438>]"
      ]
     },
     "execution_count": 32,
     "metadata": {},
     "output_type": "execute_result"
    },
    {
     "data": {
      "image/png": "[encoded data removed]",
      "text/plain": [
       "<Figure size 432x288 with 1 Axes>"
      ]
     },
     "metadata": {
      "needs_background": "light"
     },
     "output_type": "display_data"
    }
   ],
   "source": [
    "plt.plot(x, y1)\n",
    "plt.plot(x, y2)\n",
    "plt.plot(x, y3)"
   ]
  },
  {
   "cell_type": "code",
   "execution_count": null,
   "id": "ordered-neutral",
   "metadata": {},
   "outputs": [],
   "source": []
  }
 ],
 "metadata": {
  "kernelspec": {
   "display_name": "Python 3",
   "language": "python",
   "name": "python3"
  },
  "language_info": {
   "codemirror_mode": {
    "name": "ipython",
    "version": 3
   },
   "file_extension": ".py",
   "mimetype": "text/x-python",
   "name": "python",
   "nbconvert_exporter": "python",
   "pygments_lexer": "ipython3",
   "version": "3.6.13"
  }
 },
 "nbformat": 4,
 "nbformat_minor": 5
}
