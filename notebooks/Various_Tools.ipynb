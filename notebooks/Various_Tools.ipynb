{
 "cells": [
  {
   "cell_type": "code",
   "execution_count": 1,
   "metadata": {
    "collapsed": true
   },
   "outputs": [],
   "source": [
    "## Comprehensive list of useful tools\n",
    "\n",
    "import matplotlib.patches as patches"
   ]
  },
  {
   "cell_type": "code",
   "execution_count": null,
   "metadata": {
    "collapsed": true
   },
   "outputs": [],
   "source": [
    "# These values change depending on the run used\n",
    "pt = np.array([0, 5, 350])\n",
    "xl = np.array([0,-10,-200])\n",
    "xh = xl + np.array([1600,20,400])\n",
    "gdims = np.array([10240,1,2560])\n",
    "dx = (xh - xl) / gdims"
   ]
  },
  {
   "cell_type": "code",
   "execution_count": null,
   "metadata": {
    "collapsed": true
   },
   "outputs": [],
   "source": [
    "# Interp function for Get_fields fuction \n",
    "def interp(a, pt):\n",
    "    n = ((pt - xl)/dx).astype(int)\n",
    "    return a[n[0],n[1],n[2]]"
   ]
  },
  {
   "cell_type": "code",
   "execution_count": null,
   "metadata": {
    "collapsed": true
   },
   "outputs": [],
   "source": [
    "# Retrieves E and B at a given 3D position r\n",
    "# Requires interp function above\n",
    "def Get_Fields(r):\n",
    "    Ex, Ey, Ez = fp['ex_ec'], fp['ey_ec'], fp['ez_ec']\n",
    "    Bx, By, Bz = fp['hx_fc'], fp['hy_fc'], fp['hz_fc']\n",
    "    \n",
    "    \n",
    "    r = np.array([r[0],0,r[2]]) # This Resets the y position to zero\n",
    "    Ex = interp(Ex,r)\n",
    "    Ey = interp(Ey,r)\n",
    "    Ez = interp(Ez,r)\n",
    "    Bx = interp(Bx,r)\n",
    "    By = interp(By,r)\n",
    "    Bz = interp(Bz,r)\n",
    "    \n",
    "    E = np.array([Ex, Ey, Ez])\n",
    "    B = np.array([Bx, By, Bz])\n",
    "    \n",
    "    return E, B"
   ]
  },
  {
   "cell_type": "code",
   "execution_count": null,
   "metadata": {
    "collapsed": true
   },
   "outputs": [],
   "source": [
    "# Boris particle push\n",
    "def Push(r0,p0,n):\n",
    "    #Define position (r) & momentum (p) \n",
    "    r = np.zeros((n+1,3))\n",
    "    p = np.zeros((n+1,3))\n",
    "    \n",
    "    #Initial r & p\n",
    "    r[0] = r0\n",
    "    p[0] = p0\n",
    "    \n",
    "    for i in range(n):\n",
    "\n",
    "            E, B = Get_Fields(r[i])\n",
    "\n",
    "            # Convenient rotation vector \n",
    "            b_rot = q*B*dt/2*m\n",
    "\n",
    "            # 1st half of electric push\n",
    "            p_1 = p[i] + q*E*dt/2*m\n",
    "\n",
    "            # Rotation by VxB\n",
    "            p_2 = p_1 + 2*VxB((p_1 + VxB(p_1,b_rot))/(1+np.linalg.norm(b_rot)**2),b_rot)\n",
    "\n",
    "            # 2nd half of electric push \n",
    "            p[i+1] = p_2 + q*E*dt/2*m\n",
    "            r[i+1] = r[i] + p[i+1]*dt\n",
    "    \n",
    "    return r,p\n"
   ]
  },
  {
   "cell_type": "code",
   "execution_count": null,
   "metadata": {
    "collapsed": true
   },
   "outputs": [],
   "source": [
    "# Code meant to select from specific pieces of a distribution function \n",
    "# Assumes there is a defined pandas dataframe (df) of particles\n",
    "\n",
    "\n",
    "\n",
    "# Arc Selection\n",
    "# Uses two concentric circles of radii rs and rl and selects particles that fall between those two radii on a distribution function\n",
    "\n",
    "rs = 0.7  # Radius of small circle\n",
    "rl = 1    # Radius of large circle\n",
    "df['r'] = (df['px']**2 + df['py']**2)**0.5 # Defining a new pandas variable for radius (in this case, r is in x-y momentum space)   \n",
    "df = df.loc[lambda df: df['r'] < rl]\n",
    "df = df.loc[lambda df: df['r'] > rs]\n",
    "    \n",
    "\n",
    "    \n",
    "    \n",
    "# Square Selection  ((HAS NOT BEEN TESTED))\n",
    "# Limits particles considered to those that fall within the bounds of the set x,y,z limits (again, in momentum space here)\n",
    "# This is done on top of the Arc selection, so for example, with both of these a semicircular piece of the df can be chosen\n",
    "\n",
    "x_range = [-1,1]\n",
    "y_range = [-1,1]\n",
    "z_range = [-1,1]\n",
    "\n",
    "df = df.loc[lambda df: df['px'] > x_range[0]]\n",
    "df = df.loc[lambda df: df['px'] < x_range[1]]\n",
    "df = df.loc[lambda df: df['py'] > y_range[0]]\n",
    "df = df.loc[lambda df: df['py'] < y_range[1]]\n",
    "df = df.loc[lambda df: df['pz'] > z_range[0]]\n",
    "df = df.loc[lambda df: df['pz'] < z_range[1]]\n",
    "\n",
    "\n",
    "\n",
    "\n",
    "kwargs = {\"gridsize\": 80, \"extent\": (-1.2, 1.2, -1.2, 1.2), \"cmap\": 'jet'}\n",
    "fig, ax = plt.subplots(1, 1, figsize=(10,7))\n",
    "\n",
    "circle1 = plt.Circle((0,0),rs, color = 'black', fill = True)\n",
    "circle2 = plt.Circle((0,0),rl, linewidth = 2,color = 'red', fill = False)\n",
    "\n",
    "diff_x = x_range[1] - x_range[0]\n",
    "diff_y = y_range[1] - y_range[0]\n",
    "diff_z = z_range[1] - z_range[0]\n",
    "\n",
    "rect = patches.Rectangle((x_range[0],y_range[0]),diff_x,diff_y,linewidth=2,edgecolor='r',facecolor='none')\n",
    "\n",
    "electrons[s_y0 & s_x0].plot.hexbin(x='px', y='py', bins=\"log\", ax=ax, **kwargs)\n",
    "ax.add_artist(circle1)\n",
    "ax.add_artist(circle2)"
   ]
  },
  {
   "cell_type": "code",
   "execution_count": 2,
   "metadata": {},
   "outputs": [
    {
     "data": {
      "text/plain": [
       "-1"
      ]
     },
     "execution_count": 2,
     "metadata": {},
     "output_type": "execute_result"
    }
   ],
   "source": [
    "# Restricting sample to small 1x1 region chosen\n",
    "# 'Region' is some x,z coordinate on a fld plot\n",
    "# Can these 4 lines be made more concise?\n",
    "df = df.loc[lambda df: df[\"x\"] < region[0] + 0.5] \n",
    "df = df.loc[lambda df: df[\"x\"] > region[0] - 0.5]\n",
    "df = df.loc[lambda df: df[\"z\"] < region[1] + 0.5] \n",
    "df = df.loc[lambda df: df[\"z\"] > region[1] - 0.5]\n",
    "\n",
    "\n",
    "\n",
    "# Chooses 5 particles that vary from lowest to highest energy within a sample \n",
    "def Particle_Select():\n",
    "    df['eng_sqrd'] = (df['px']**2 + df['py']**2 + df['pz']**2)\n",
    "    \n",
    "    min = df.loc[lambda df: df['eng_sqrd'] == df[\"eng_sqrd\"].min()]\n",
    "    med = df.loc[lambda df: df['eng_sqrd'] == df[\"eng_sqrd\"].median()]\n",
    "    max = df.loc[lambda df: df['eng_sqrd'] == df[\"eng_sqrd\"].max()]\n",
    "    \n",
    "    minmed = df.loc[lambda df: df['eng_sqrd'] < df[\"eng_sqrd\"].median()]\n",
    "    minmed = minmed.loc[lambda df: minmed['eng_sqrd'] == minmed[\"eng_sqrd\"].median()]\n",
    "    \n",
    "    medmax = df.loc[lambda df: df['eng_sqrd'] > df[\"eng_sqrd\"].median()]\n",
    "    medmax = medmax.loc[lambda df: medmax['eng_sqrd'] == medmax[\"eng_sqrd\"].median()]\n",
    "    \n",
    "    r_min = np.array([min[\"x\"].median(),min[\"y\"].median(),min[\"z\"].median()])\n",
    "    p_min = np.array([min[\"px\"].median(),min[\"py\"].median(),min[\"pz\"].median()])\n",
    "    \n",
    "    r_minmed = np.array([minmed[\"x\"].median(),minmed[\"y\"].median(),minmed[\"z\"].median()])\n",
    "    p_minmed = np.array([minmed[\"px\"].median(),minmed[\"py\"].median(),minmed[\"pz\"].median()])\n",
    "    \n",
    "    r_med = np.array([med[\"x\"].median(),med[\"y\"].median(),med[\"z\"].median()])\n",
    "    p_med = np.array([med[\"px\"].median(),med[\"py\"].median(),med[\"pz\"].median()])\n",
    "    \n",
    "    r_medmax = np.array([medmax[\"x\"].median(),medmax[\"y\"].median(),medmax[\"z\"].median()])\n",
    "    p_medmax = np.array([medmax[\"px\"].median(),medmax[\"py\"].median(),medmax[\"pz\"].median()])\n",
    "    \n",
    "    r_max = np.array([max[\"x\"].median(),max[\"y\"].median(),max[\"z\"].median()])\n",
    "    p_max = np.array([max[\"px\"].median(),max[\"py\"].median(),max[\"pz\"].median()])\n",
    "\n",
    "    return r_min, r_minmed, r_med, r_medmax, r_max, p_min, p_minmed, p_med, p_medmax, p_max, \n",
    "\n",
    "\n",
    "r0,r1,r2,r3,r4,p0,p1,p2,p3,p4 = Particle_Select()\n"
   ]
  },
  {
   "cell_type": "code",
   "execution_count": null,
   "metadata": {
    "collapsed": true
   },
   "outputs": [],
   "source": []
  }
 ],
 "metadata": {
  "kernelspec": {
   "display_name": "Python 3",
   "language": "python",
   "name": "python3"
  },
  "language_info": {
   "codemirror_mode": {
    "name": "ipython",
    "version": 3
   },
   "file_extension": ".py",
   "mimetype": "text/x-python",
   "name": "python",
   "nbconvert_exporter": "python",
   "pygments_lexer": "ipython3",
   "version": "3.8.10"
  }
 },
 "nbformat": 4,
 "nbformat_minor": 2
}
