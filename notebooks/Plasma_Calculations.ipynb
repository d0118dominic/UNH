{
 "cells": [
  {
   "cell_type": "code",
   "execution_count": 3,
   "id": "616f54ed",
   "metadata": {},
   "outputs": [],
   "source": [
    "import scipy.constants as constants\n",
    "mu0 = constants.mu_0\n",
    "eps0 = constants.epsilon_0\n",
    "mi = constants.proton_mass\n",
    "me = constants.electron_mass\n",
    "c = constants.c\n",
    "e = constants.e\n",
    "kB = constants.k\n",
    "\n",
    "n = .05 * 1e6\n",
    "B = 3 * 1e-9\n",
    "Te = 800 * e / kB\n",
    "Ti = 5*Te # made up!"
   ]
  },
  {
   "cell_type": "code",
   "execution_count": 4,
   "id": "eb2ae035",
   "metadata": {},
   "outputs": [
    {
     "name": "stdout",
     "output_type": "stream",
     "text": [
      "vA 292.63915085317427 0.000976139135738946\n",
      "vAe 12539.690646655772 0.04182790564616463\n",
      "wpe 12614.68856928156 wce 527.646003231649\n",
      "wpi 294.3893797074097 wci 0.2873649946783091\n",
      "vthe 11861.939169536028 0.03956717006381804 betae 0.8948242392653643\n",
      "vthi 618.9938014534115 0.002064741073150718 betai 4.474121196326821\n",
      "de 23765.347543342006 di 1018353.5095524178\n",
      "lambdaDe 940.3275478731535\n"
     ]
    }
   ],
   "source": [
    "vA = B / (mu0*n*mi)**.5\n",
    "vAe = B / (mu0*n*me)**.5\n",
    "wpe = (n*e**2/(me*eps0))**.5\n",
    "wpi = (n*e**2/(mi*eps0))**.5\n",
    "wce = e*B/me\n",
    "wci = e*B/mi\n",
    "vthe = (kB*Te/me)**.5\n",
    "vthi = (kB*Ti/mi)**.5\n",
    "betae = (vthe/vAe)**2\n",
    "betai = (vthi/vA)**2\n",
    "de = c/wpe\n",
    "di = c/wpi\n",
    "lambdaDe = vthe/wpe\n",
    "print(\"vA\", vA / 1e3, vA / c)\n",
    "print(\"vAe\", vAe / 1e3, vAe / c)\n",
    "print(\"wpe\", wpe, \"wce\", wce)\n",
    "print(\"wpi\", wpi, \"wci\", wci)\n",
    "print(\"vthe\", vthe / 1e3, vthe/c, \"betae\", betae)\n",
    "print(\"vthi\", vthi / 1e3, vthi/c, \"betai\", betai)\n",
    "print(\"de\", de, \"di\", di)\n",
    "print(\"lambdaDe\", lambdaDe)"
   ]
  },
  {
   "cell_type": "code",
   "execution_count": null,
   "id": "3e9569aa",
   "metadata": {},
   "outputs": [],
   "source": []
  }
 ],
 "metadata": {
  "kernelspec": {
   "display_name": "Python 3",
   "language": "python",
   "name": "python3"
  },
  "language_info": {
   "codemirror_mode": {
    "name": "ipython",
    "version": 3
   },
   "file_extension": ".py",
   "mimetype": "text/x-python",
   "name": "python",
   "nbconvert_exporter": "python",
   "pygments_lexer": "ipython3",
   "version": "3.8.10"
  }
 },
 "nbformat": 4,
 "nbformat_minor": 5
}
